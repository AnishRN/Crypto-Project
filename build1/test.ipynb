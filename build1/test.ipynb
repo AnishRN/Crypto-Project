import numpy as np
import matplotlib.pyplot as plt
import seaborn as sns
import yfinance as yf
import pandas as pd
import datetime
from prophet import Prophet
import requests



start = '2020-01-01'
current = datetime.datetime.now()
def data_load():
    data = yf.download('LTC-USD', start, current)
    data.reset_index(inplace=True)
    return data

# Plot the current data in table format
data = data_load()
train_data = data[['Date', 'Close']]
train_data = train_data.rename(columns={'Date': 'ds', 'Close': 'y'})
model = Prophet()
model.fit(train_data)
future = model.make_future_dataframe(periods=4*30)
forecast = model.predict(future)
forecast