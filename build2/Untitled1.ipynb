{
 "cells": [
  {
   "cell_type": "code",
   "execution_count": 1,
   "id": "720b4c87",
   "metadata": {},
   "outputs": [],
   "source": [
    "import matplotlib.pyplot as plt\n",
    "import pandas as pd\n",
    "import numpy as np\n",
    "import datetime"
   ]
  },
  {
   "cell_type": "code",
   "execution_count": 1,
   "id": "4869438a",
   "metadata": {
    "scrolled": true
   },
   "outputs": [
    {
     "ename": "InvalidURL",
     "evalue": "Invalid URL 'https:/pro.coinmarketcap.com/v1/cryptocurrency/listings/latest': No host supplied",
     "output_type": "error",
     "traceback": [
      "\u001b[1;31m---------------------------------------------------------------------------\u001b[0m",
      "\u001b[1;31mInvalidURL\u001b[0m                                Traceback (most recent call last)",
      "Cell \u001b[1;32mIn[1], line 22\u001b[0m\n\u001b[0;32m     15\u001b[0m params \u001b[38;5;241m=\u001b[39m {\n\u001b[0;32m     16\u001b[0m     \u001b[38;5;124m'\u001b[39m\u001b[38;5;124msymbol\u001b[39m\u001b[38;5;124m'\u001b[39m: symbol,\n\u001b[0;32m     17\u001b[0m     \u001b[38;5;124m'\u001b[39m\u001b[38;5;124minterval\u001b[39m\u001b[38;5;124m'\u001b[39m: interval,\n\u001b[0;32m     18\u001b[0m     \u001b[38;5;124m'\u001b[39m\u001b[38;5;124mlimit\u001b[39m\u001b[38;5;124m'\u001b[39m: \u001b[38;5;241m1000\u001b[39m  \u001b[38;5;66;03m# Maximum number of data points to retrieve\u001b[39;00m\n\u001b[0;32m     19\u001b[0m }\n\u001b[0;32m     21\u001b[0m \u001b[38;5;66;03m# Make a GET request to the Binance API with your API key and parameters\u001b[39;00m\n\u001b[1;32m---> 22\u001b[0m response \u001b[38;5;241m=\u001b[39m requests\u001b[38;5;241m.\u001b[39mget(base_url, params\u001b[38;5;241m=\u001b[39mparams, headers\u001b[38;5;241m=\u001b[39m{\u001b[38;5;124m'\u001b[39m\u001b[38;5;124mX-MBX-APIKEY\u001b[39m\u001b[38;5;124m'\u001b[39m: api_key})\n\u001b[0;32m     24\u001b[0m \u001b[38;5;66;03m# Check if the request was successful (status code 200)\u001b[39;00m\n\u001b[0;32m     25\u001b[0m \u001b[38;5;28;01mif\u001b[39;00m response\u001b[38;5;241m.\u001b[39mstatus_code \u001b[38;5;241m==\u001b[39m \u001b[38;5;241m200\u001b[39m:\n\u001b[0;32m     26\u001b[0m     \u001b[38;5;66;03m# Process and analyze the data as needed\u001b[39;00m\n",
      "File \u001b[1;32m~\\Python envi\\Lib\\site-packages\\requests\\api.py:73\u001b[0m, in \u001b[0;36mget\u001b[1;34m(url, params, **kwargs)\u001b[0m\n\u001b[0;32m     62\u001b[0m \u001b[38;5;28;01mdef\u001b[39;00m \u001b[38;5;21mget\u001b[39m(url, params\u001b[38;5;241m=\u001b[39m\u001b[38;5;28;01mNone\u001b[39;00m, \u001b[38;5;241m*\u001b[39m\u001b[38;5;241m*\u001b[39mkwargs):\n\u001b[0;32m     63\u001b[0m \u001b[38;5;250m    \u001b[39m\u001b[38;5;124mr\u001b[39m\u001b[38;5;124;03m\"\"\"Sends a GET request.\u001b[39;00m\n\u001b[0;32m     64\u001b[0m \n\u001b[0;32m     65\u001b[0m \u001b[38;5;124;03m    :param url: URL for the new :class:`Request` object.\u001b[39;00m\n\u001b[1;32m   (...)\u001b[0m\n\u001b[0;32m     70\u001b[0m \u001b[38;5;124;03m    :rtype: requests.Response\u001b[39;00m\n\u001b[0;32m     71\u001b[0m \u001b[38;5;124;03m    \"\"\"\u001b[39;00m\n\u001b[1;32m---> 73\u001b[0m     \u001b[38;5;28;01mreturn\u001b[39;00m request(\u001b[38;5;124m\"\u001b[39m\u001b[38;5;124mget\u001b[39m\u001b[38;5;124m\"\u001b[39m, url, params\u001b[38;5;241m=\u001b[39mparams, \u001b[38;5;241m*\u001b[39m\u001b[38;5;241m*\u001b[39mkwargs)\n",
      "File \u001b[1;32m~\\Python envi\\Lib\\site-packages\\requests\\api.py:59\u001b[0m, in \u001b[0;36mrequest\u001b[1;34m(method, url, **kwargs)\u001b[0m\n\u001b[0;32m     55\u001b[0m \u001b[38;5;66;03m# By using the 'with' statement we are sure the session is closed, thus we\u001b[39;00m\n\u001b[0;32m     56\u001b[0m \u001b[38;5;66;03m# avoid leaving sockets open which can trigger a ResourceWarning in some\u001b[39;00m\n\u001b[0;32m     57\u001b[0m \u001b[38;5;66;03m# cases, and look like a memory leak in others.\u001b[39;00m\n\u001b[0;32m     58\u001b[0m \u001b[38;5;28;01mwith\u001b[39;00m sessions\u001b[38;5;241m.\u001b[39mSession() \u001b[38;5;28;01mas\u001b[39;00m session:\n\u001b[1;32m---> 59\u001b[0m     \u001b[38;5;28;01mreturn\u001b[39;00m session\u001b[38;5;241m.\u001b[39mrequest(method\u001b[38;5;241m=\u001b[39mmethod, url\u001b[38;5;241m=\u001b[39murl, \u001b[38;5;241m*\u001b[39m\u001b[38;5;241m*\u001b[39mkwargs)\n",
      "File \u001b[1;32m~\\Python envi\\Lib\\site-packages\\requests\\sessions.py:575\u001b[0m, in \u001b[0;36mSession.request\u001b[1;34m(self, method, url, params, data, headers, cookies, files, auth, timeout, allow_redirects, proxies, hooks, stream, verify, cert, json)\u001b[0m\n\u001b[0;32m    562\u001b[0m \u001b[38;5;66;03m# Create the Request.\u001b[39;00m\n\u001b[0;32m    563\u001b[0m req \u001b[38;5;241m=\u001b[39m Request(\n\u001b[0;32m    564\u001b[0m     method\u001b[38;5;241m=\u001b[39mmethod\u001b[38;5;241m.\u001b[39mupper(),\n\u001b[0;32m    565\u001b[0m     url\u001b[38;5;241m=\u001b[39murl,\n\u001b[1;32m   (...)\u001b[0m\n\u001b[0;32m    573\u001b[0m     hooks\u001b[38;5;241m=\u001b[39mhooks,\n\u001b[0;32m    574\u001b[0m )\n\u001b[1;32m--> 575\u001b[0m prep \u001b[38;5;241m=\u001b[39m \u001b[38;5;28mself\u001b[39m\u001b[38;5;241m.\u001b[39mprepare_request(req)\n\u001b[0;32m    577\u001b[0m proxies \u001b[38;5;241m=\u001b[39m proxies \u001b[38;5;129;01mor\u001b[39;00m {}\n\u001b[0;32m    579\u001b[0m settings \u001b[38;5;241m=\u001b[39m \u001b[38;5;28mself\u001b[39m\u001b[38;5;241m.\u001b[39mmerge_environment_settings(\n\u001b[0;32m    580\u001b[0m     prep\u001b[38;5;241m.\u001b[39murl, proxies, stream, verify, cert\n\u001b[0;32m    581\u001b[0m )\n",
      "File \u001b[1;32m~\\Python envi\\Lib\\site-packages\\requests\\sessions.py:486\u001b[0m, in \u001b[0;36mSession.prepare_request\u001b[1;34m(self, request)\u001b[0m\n\u001b[0;32m    483\u001b[0m     auth \u001b[38;5;241m=\u001b[39m get_netrc_auth(request\u001b[38;5;241m.\u001b[39murl)\n\u001b[0;32m    485\u001b[0m p \u001b[38;5;241m=\u001b[39m PreparedRequest()\n\u001b[1;32m--> 486\u001b[0m p\u001b[38;5;241m.\u001b[39mprepare(\n\u001b[0;32m    487\u001b[0m     method\u001b[38;5;241m=\u001b[39mrequest\u001b[38;5;241m.\u001b[39mmethod\u001b[38;5;241m.\u001b[39mupper(),\n\u001b[0;32m    488\u001b[0m     url\u001b[38;5;241m=\u001b[39mrequest\u001b[38;5;241m.\u001b[39murl,\n\u001b[0;32m    489\u001b[0m     files\u001b[38;5;241m=\u001b[39mrequest\u001b[38;5;241m.\u001b[39mfiles,\n\u001b[0;32m    490\u001b[0m     data\u001b[38;5;241m=\u001b[39mrequest\u001b[38;5;241m.\u001b[39mdata,\n\u001b[0;32m    491\u001b[0m     json\u001b[38;5;241m=\u001b[39mrequest\u001b[38;5;241m.\u001b[39mjson,\n\u001b[0;32m    492\u001b[0m     headers\u001b[38;5;241m=\u001b[39mmerge_setting(\n\u001b[0;32m    493\u001b[0m         request\u001b[38;5;241m.\u001b[39mheaders, \u001b[38;5;28mself\u001b[39m\u001b[38;5;241m.\u001b[39mheaders, dict_class\u001b[38;5;241m=\u001b[39mCaseInsensitiveDict\n\u001b[0;32m    494\u001b[0m     ),\n\u001b[0;32m    495\u001b[0m     params\u001b[38;5;241m=\u001b[39mmerge_setting(request\u001b[38;5;241m.\u001b[39mparams, \u001b[38;5;28mself\u001b[39m\u001b[38;5;241m.\u001b[39mparams),\n\u001b[0;32m    496\u001b[0m     auth\u001b[38;5;241m=\u001b[39mmerge_setting(auth, \u001b[38;5;28mself\u001b[39m\u001b[38;5;241m.\u001b[39mauth),\n\u001b[0;32m    497\u001b[0m     cookies\u001b[38;5;241m=\u001b[39mmerged_cookies,\n\u001b[0;32m    498\u001b[0m     hooks\u001b[38;5;241m=\u001b[39mmerge_hooks(request\u001b[38;5;241m.\u001b[39mhooks, \u001b[38;5;28mself\u001b[39m\u001b[38;5;241m.\u001b[39mhooks),\n\u001b[0;32m    499\u001b[0m )\n\u001b[0;32m    500\u001b[0m \u001b[38;5;28;01mreturn\u001b[39;00m p\n",
      "File \u001b[1;32m~\\Python envi\\Lib\\site-packages\\requests\\models.py:368\u001b[0m, in \u001b[0;36mPreparedRequest.prepare\u001b[1;34m(self, method, url, headers, files, data, params, auth, cookies, hooks, json)\u001b[0m\n\u001b[0;32m    365\u001b[0m \u001b[38;5;250m\u001b[39m\u001b[38;5;124;03m\"\"\"Prepares the entire request with the given parameters.\"\"\"\u001b[39;00m\n\u001b[0;32m    367\u001b[0m \u001b[38;5;28mself\u001b[39m\u001b[38;5;241m.\u001b[39mprepare_method(method)\n\u001b[1;32m--> 368\u001b[0m \u001b[38;5;28mself\u001b[39m\u001b[38;5;241m.\u001b[39mprepare_url(url, params)\n\u001b[0;32m    369\u001b[0m \u001b[38;5;28mself\u001b[39m\u001b[38;5;241m.\u001b[39mprepare_headers(headers)\n\u001b[0;32m    370\u001b[0m \u001b[38;5;28mself\u001b[39m\u001b[38;5;241m.\u001b[39mprepare_cookies(cookies)\n",
      "File \u001b[1;32m~\\Python envi\\Lib\\site-packages\\requests\\models.py:445\u001b[0m, in \u001b[0;36mPreparedRequest.prepare_url\u001b[1;34m(self, url, params)\u001b[0m\n\u001b[0;32m    439\u001b[0m     \u001b[38;5;28;01mraise\u001b[39;00m MissingSchema(\n\u001b[0;32m    440\u001b[0m         \u001b[38;5;124mf\u001b[39m\u001b[38;5;124m\"\u001b[39m\u001b[38;5;124mInvalid URL \u001b[39m\u001b[38;5;132;01m{\u001b[39;00murl\u001b[38;5;132;01m!r}\u001b[39;00m\u001b[38;5;124m: No scheme supplied. \u001b[39m\u001b[38;5;124m\"\u001b[39m\n\u001b[0;32m    441\u001b[0m         \u001b[38;5;124mf\u001b[39m\u001b[38;5;124m\"\u001b[39m\u001b[38;5;124mPerhaps you meant https://\u001b[39m\u001b[38;5;132;01m{\u001b[39;00murl\u001b[38;5;132;01m}\u001b[39;00m\u001b[38;5;124m?\u001b[39m\u001b[38;5;124m\"\u001b[39m\n\u001b[0;32m    442\u001b[0m     )\n\u001b[0;32m    444\u001b[0m \u001b[38;5;28;01mif\u001b[39;00m \u001b[38;5;129;01mnot\u001b[39;00m host:\n\u001b[1;32m--> 445\u001b[0m     \u001b[38;5;28;01mraise\u001b[39;00m InvalidURL(\u001b[38;5;124mf\u001b[39m\u001b[38;5;124m\"\u001b[39m\u001b[38;5;124mInvalid URL \u001b[39m\u001b[38;5;132;01m{\u001b[39;00murl\u001b[38;5;132;01m!r}\u001b[39;00m\u001b[38;5;124m: No host supplied\u001b[39m\u001b[38;5;124m\"\u001b[39m)\n\u001b[0;32m    447\u001b[0m \u001b[38;5;66;03m# In general, we want to try IDNA encoding the hostname if the string contains\u001b[39;00m\n\u001b[0;32m    448\u001b[0m \u001b[38;5;66;03m# non-ASCII characters. This allows users to automatically get the correct IDNA\u001b[39;00m\n\u001b[0;32m    449\u001b[0m \u001b[38;5;66;03m# behaviour. For strings containing only ASCII characters, we need to also verify\u001b[39;00m\n\u001b[0;32m    450\u001b[0m \u001b[38;5;66;03m# it doesn't start with a wildcard (*), before allowing the unencoded hostname.\u001b[39;00m\n\u001b[0;32m    451\u001b[0m \u001b[38;5;28;01mif\u001b[39;00m \u001b[38;5;129;01mnot\u001b[39;00m unicode_is_ascii(host):\n",
      "\u001b[1;31mInvalidURL\u001b[0m: Invalid URL 'https:/pro.coinmarketcap.com/v1/cryptocurrency/listings/latest': No host supplied"
     ]
    }
   ],
   "source": [
    "import requests\n",
    "\n",
    "# Define your Binance API key and secret\n",
    "api_key = 'eaca05cc-3fe4-468b-923e-9f18f5fdf6d1'\n",
    "\n",
    "\n",
    "# Define the Binance API endpoint for klines (candlestick data)\n",
    "base_url = 'https:/pro.coinmarketcap.com/v1/cryptocurrency/listings/latest'\n",
    "\n",
    "# Define the symbol (e.g., BTCUSDT for Bitcoin/USDT pair) and interval (e.g., 1h for 1-hour candles)\n",
    "symbol = 'ETHUSD'\n",
    "interval = '1h'\n",
    "\n",
    "# Define any optional parameters (e.g., limit, start time, end time)\n",
    "params = {\n",
    "    'symbol': symbol,\n",
    "    'interval': interval,\n",
    "    'limit': 1000  # Maximum number of data points to retrieve\n",
    "}\n",
    "\n",
    "# Make a GET request to the Binance API with your API key and parameters\n",
    "response = requests.get(base_url, params=params, headers={'X-MBX-APIKEY': api_key})\n",
    "\n",
    "# Check if the request was successful (status code 200)\n",
    "if response.status_code == 200:\n",
    "    # Process and analyze the data as needed\n",
    "    data = response.json()\n",
    "\n",
    "else:\n",
    "    print(f\"Failed to fetch data. Status code: {response.status_code}\")\n",
    "\n"
   ]
  },
  {
   "cell_type": "code",
   "execution_count": null,
   "id": "062666e3",
   "metadata": {},
   "outputs": [],
   "source": [
    "import pandas as pd\n",
    "cols=['openTime','open','high','low','close','volume','closeTime','quoteAssetVolume','numberOfTrades','takerBuyBaseAssetVolume','takerBuyQuoteAssetVolume','ignore']\n",
    "df = pd.DataFrame(data[0:], columns=cols)\n",
    "df.info()"
   ]
  },
  {
   "cell_type": "code",
   "execution_count": null,
   "id": "ba78af06",
   "metadata": {},
   "outputs": [],
   "source": [
    "import pandas as pd\n",
    "\n",
    "# Assuming 'data' is your DataFrame with klines data\n",
    "df['openTime'] = pd.to_datetime(df['openTime'], unit='ms')  # Convert to datetime from milliseconds\n",
    "df['closeTime'] = pd.to_datetime(df['closeTime'], unit='ms')  # Convert to datetime from milliseconds\n",
    "df['open'] = pd.to_numeric(df['open'])\n",
    "df['high'] = pd.to_numeric(df['high'])\n",
    "df['low'] = pd.to_numeric(df['low'])\n",
    "df['close'] = pd.to_numeric(df['close'])\n",
    "\n",
    "\n",
    "df.head()"
   ]
  },
  {
   "cell_type": "code",
   "execution_count": null,
   "id": "a11342dd",
   "metadata": {},
   "outputs": [],
   "source": [
    "df.shape"
   ]
  },
  {
   "cell_type": "code",
   "execution_count": null,
   "id": "68a5acbd",
   "metadata": {},
   "outputs": [],
   "source": [
    "df.info()"
   ]
  },
  {
   "cell_type": "code",
   "execution_count": null,
   "id": "87393d11",
   "metadata": {},
   "outputs": [],
   "source": [
    "import pandas as pd\n",
    "import matplotlib.pyplot as plt\n",
    "\n",
    "# Sample DataFrame (replace with your actual DataFrame)\n",
    "data = {\n",
    "    'closeTime': pd.date_range(start='2023-09-01 00:00:00', periods=1000, freq='H'),\n",
    "    'close': [float(i) for i in range(1000)],\n",
    "}\n",
    "\n",
    "df = pd.DataFrame(data)\n",
    "\n",
    "# Convert 'closeTime' column to the index\n",
    "df.set_index('closeTime', inplace=True)\n",
    "\n",
    "# Convert 'close' column to a numerical data type\n",
    "df['close'] = pd.to_numeric(df['close'])\n",
    "\n",
    "# Create the plot\n",
    "plt.figure(figsize=(12, 6))\n",
    "plt.plot(df.index, df['close'], label='Close Price', color='blue')\n",
    "plt.xlabel('Close Time')\n",
    "plt.ylabel('Close Price')\n",
    "plt.title('Close Price vs. Close Time')\n",
    "plt.legend()\n",
    "plt.grid(True)\n",
    "\n",
    "# Format the x-axis for time (optional)\n",
    "plt.gca().xaxis.set_major_formatter(plt.matplotlib.dates.DateFormatter('%Y-%m-%d %H:%M:%S'))\n",
    "\n",
    "# Rotate the x-axis labels for better readability (optional)\n",
    "plt.xticks(rotation=45)\n",
    "\n",
    "# Show the plot\n",
    "plt.tight_layout()\n",
    "plt.show()\n"
   ]
  },
  {
   "cell_type": "code",
   "execution_count": null,
   "id": "0d0369da",
   "metadata": {},
   "outputs": [],
   "source": [
    "min_open_time = df['openTime'].min()\n",
    "max_open_time = df['openTime'].max()\n",
    "print(f\"openTime range: {min_open_time} to {max_open_time}\")"
   ]
  },
  {
   "cell_type": "code",
   "execution_count": null,
   "id": "084ad1f6",
   "metadata": {},
   "outputs": [],
   "source": [
    "import yfinance as yf\n",
    "df=yf.download('AAPL','2018-01-01','2020-01-01')\n",
    "df.head()"
   ]
  },
  {
   "cell_type": "code",
   "execution_count": null,
   "id": "a00c185c",
   "metadata": {},
   "outputs": [],
   "source": [
    "import tensorflow as tf\n",
    "tf.__version__"
   ]
  },
  {
   "cell_type": "code",
   "execution_count": 3,
   "id": "8689d3dd",
   "metadata": {},
   "outputs": [],
   "source": [
    "import requests\n",
    "import pandas as pd\n",
    "from tabulate import tabulate\n",
    "\n",
    "# Define the CoinMarketCap API endpoint for cryptocurrency data\n",
    "base_url = 'https://pro-api.coinmarketcap.com/v1/cryptocurrency/listings/latest'\n",
    "\n",
    "# Define your CoinMarketCap API key\n",
    "api_key = 'eaca05cc-3fe4-468b-923e-9f18f5fdf6d1'\n",
    "\n",
    "# Define parameters for the API request\n",
    "params = {\n",
    "    'start': '1',          # Start from the first cryptocurrency\n",
    "    'limit': '10',         # Limit the response to 10 cryptocurrencies (adjust as needed)\n",
    "    'convert': 'USD'       # Convert prices to USD (you can use other currencies)\n",
    "}\n",
    "\n",
    "# Set the API key as a request header\n",
    "headers = {\n",
    "    'X-CMC_PRO_API_KEY': api_key\n",
    "}\n",
    "\n",
    "# Make a GET request to the CoinMarketCap API\n",
    "response = requests.request('GET',base_url, params=params, headers=headers)\n",
    "\n",
    "data = response.text\n"
   ]
  },
  {
   "cell_type": "code",
   "execution_count": 4,
   "id": "65da7ddc",
   "metadata": {},
   "outputs": [
    {
     "ename": "NameError",
     "evalue": "name 'json_data' is not defined",
     "output_type": "error",
     "traceback": [
      "\u001b[1;31m---------------------------------------------------------------------------\u001b[0m",
      "\u001b[1;31mNameError\u001b[0m                                 Traceback (most recent call last)",
      "Cell \u001b[1;32mIn[4], line 1\u001b[0m\n\u001b[1;32m----> 1\u001b[0m data_list \u001b[38;5;241m=\u001b[39m json_data\u001b[38;5;241m.\u001b[39mget(\u001b[38;5;124m\"\u001b[39m\u001b[38;5;124mdata\u001b[39m\u001b[38;5;124m\"\u001b[39m, [])\n\u001b[0;32m      3\u001b[0m \u001b[38;5;66;03m# Create a DataFrame\u001b[39;00m\n\u001b[0;32m      4\u001b[0m df \u001b[38;5;241m=\u001b[39m pd\u001b[38;5;241m.\u001b[39mDataFrame(data_list)\n",
      "\u001b[1;31mNameError\u001b[0m: name 'json_data' is not defined"
     ]
    }
   ],
   "source": [
    "data_list = json_data.get(\"data\", [])\n",
    "\n",
    "# Create a DataFrame\n",
    "df = pd.DataFrame(data_list)\n",
    "\n",
    "# Select and reorder columns\n",
    "df = df[[\"name\", \"symbol\", \"quote\"]]\n",
    "\n",
    "# Flatten the 'quote' column\n",
    "df = pd.concat([df.drop([\"quote\"], axis=1), df[\"quote\"].apply(pd.Series)[\"USD\"]], axis=1)\n",
    "\n",
    "# Rename columns\n",
    "df.rename(columns={\n",
    "    \"price\": \"Close\",\n",
    "    \"volume_24h\": \"Volume\",\n",
    "    \"percent_change_1h\": \"Percent Change 1h\",\n",
    "    \"percent_change_24h\": \"Percent Change 24h\",\n",
    "    \"percent_change_7d\": \"Percent Change 7d\",\n",
    "    \"percent_change_30d\": \"Percent Change 30d\",\n",
    "    \"percent_change_60d\": \"Percent Change 60d\",\n",
    "    \"percent_change_90d\": \"Percent Change 90d\",\n",
    "    \"market_cap\": \"Market Cap\"\n",
    "}, inplace=True)\n",
    "\n",
    "# Set the 'name' column as the index\n",
    "df.set_index(\"name\", inplace=True)\n",
    "\n",
    "# Print the DataFrame\n",
    "print(df)"
   ]
  },
  {
   "cell_type": "code",
   "execution_count": 6,
   "id": "05919cff",
   "metadata": {
    "scrolled": true
   },
   "outputs": [
    {
     "name": "stdout",
     "output_type": "stream",
     "text": [
      "Enter the stock symbol: BTC-USD\n",
      "Enter the start date (YYYY-MM-DD): 2020-01-01\n",
      "Enter the end date (YYYY-MM-DD): 2023-10-02\n",
      "[*********************100%%**********************]  1 of 1 completed\n",
      "Analyzing historical performance of BTC-USD stock:\n",
      "                    Open          High           Low         Close  \\\n",
      "Date                                                                 \n",
      "2020-01-01   7194.892090   7254.330566   7174.944336   7200.174316   \n",
      "2020-01-02   7202.551270   7212.155273   6935.270020   6985.470215   \n",
      "2020-01-03   6984.428711   7413.715332   6914.996094   7344.884277   \n",
      "2020-01-04   7345.375488   7427.385742   7309.514160   7410.656738   \n",
      "2020-01-05   7410.451660   7544.497070   7400.535645   7411.317383   \n",
      "...                  ...           ...           ...           ...   \n",
      "2023-09-27  26209.498047  26817.841797  26111.464844  26352.716797   \n",
      "2023-09-28  26355.812500  27259.500000  26327.322266  27021.546875   \n",
      "2023-09-29  27024.841797  27225.937500  26721.763672  26911.720703   \n",
      "2023-09-30  26911.689453  27091.794922  26888.968750  26967.916016   \n",
      "2023-10-01  26967.396484  28047.238281  26965.093750  27983.750000   \n",
      "\n",
      "               Adj Close       Volume  \n",
      "Date                                   \n",
      "2020-01-01   7200.174316  18565664997  \n",
      "2020-01-02   6985.470215  20802083465  \n",
      "2020-01-03   7344.884277  28111481032  \n",
      "2020-01-04   7410.656738  18444271275  \n",
      "2020-01-05   7411.317383  19725074095  \n",
      "...                  ...          ...  \n",
      "2023-09-27  26352.716797  11718380997  \n",
      "2023-09-28  27021.546875  14079002707  \n",
      "2023-09-29  26911.720703  10396435377  \n",
      "2023-09-30  26967.916016   5331172801  \n",
      "2023-10-01  27983.750000   9503917434  \n",
      "\n",
      "[1370 rows x 6 columns]\n",
      "Analyzing news articles related to BTC-USD stock:\n",
      "News Article Link: https://economictimes.indiatimes.com/news/bitcoin\n",
      "Sentiment Score: 0.06\n",
      "--------------------------------------------------\n"
     ]
    }
   ],
   "source": [
    "import yfinance as yf\n",
    "import requests\n",
    "from bs4 import BeautifulSoup\n",
    "from textblob import TextBlob\n",
    "from googlesearch import search\n",
    "\n",
    "def get_historical_stock_data(stock_symbol, start_date, end_date):\n",
    "    stock_data = yf.download(stock_symbol, start=start_date, end=end_date)\n",
    "    return stock_data\n",
    "\n",
    "def extract_news_links(search_query, num_links=5):\n",
    "    news_links = []\n",
    "    search_results = search(search_query, num_results=num_links, lang='en')\n",
    "\n",
    "    for result in search_results:\n",
    "        if \"news\" in result:\n",
    "            news_links.append(result)\n",
    "    return news_links\n",
    "\n",
    "def analyze_sentiment(text):\n",
    "    blob = TextBlob(text)\n",
    "    sentiment_score = blob.sentiment.polarity\n",
    "    return sentiment_score\n",
    "\n",
    "def main():\n",
    "    stock_symbol = input(\"Enter the stock symbol: \")\n",
    "    start_date = input(\"Enter the start date (YYYY-MM-DD): \")\n",
    "    end_date = input(\"Enter the end date (YYYY-MM-DD): \")\n",
    "    \n",
    "    try:\n",
    "        stock_data = get_historical_stock_data(stock_symbol, start_date, end_date)\n",
    "        if stock_data.empty:\n",
    "            print(\"No stock data found for the given date range.\")\n",
    "            return\n",
    "        \n",
    "        print(f\"Analyzing historical performance of {stock_symbol} stock:\")\n",
    "        print(stock_data)\n",
    "        \n",
    "        search_query = f\"{stock_symbol} stock news\"\n",
    "        news_links = extract_news_links(search_query)\n",
    "        \n",
    "        if not news_links:\n",
    "            print(\"No news articles found.\")\n",
    "            return\n",
    "        \n",
    "        print(f\"Analyzing news articles related to {stock_symbol} stock:\")\n",
    "        \n",
    "        for link in news_links:\n",
    "            try:\n",
    "                response = requests.get(link)\n",
    "                soup = BeautifulSoup(response.text, 'html.parser')\n",
    "                news_text = \"\"\n",
    "                for paragraph in soup.find_all('p'):\n",
    "                    news_text += paragraph.get_text()\n",
    "                sentiment_score = analyze_sentiment(news_text)\n",
    "                \n",
    "                print(f\"News Article Link: {link}\")\n",
    "                print(f\"Sentiment Score: {sentiment_score:.2f}\")\n",
    "                print(\"-\" * 50)\n",
    "            except Exception as e:\n",
    "                print(f\"Error processing article: {e}\")\n",
    "    except Exception as e:\n",
    "        print(f\"Error: {e}\")\n",
    "\n",
    "if __name__ == \"__main__\":\n",
    "    main()\n"
   ]
  },
  {
   "cell_type": "code",
   "execution_count": 8,
   "id": "d800355c",
   "metadata": {},
   "outputs": [
    {
     "name": "stdout",
     "output_type": "stream",
     "text": [
      "                           Text  Sentiment_Score\n",
      "0  This is a positive sentence.         0.227273\n",
      "1      Negative sentiment here.        -0.300000\n",
      "2            Neutral statement.         0.000000\n"
     ]
    },
    {
     "name": "stderr",
     "output_type": "stream",
     "text": [
      "C:\\Users\\Ravi Nadar\\AppData\\Local\\Temp\\ipykernel_14140\\220817355.py:14: FutureWarning: The frame.append method is deprecated and will be removed from pandas in a future version. Use pandas.concat instead.\n",
      "  sentiment_data = sentiment_data.append({\"Text\": text, \"Sentiment_Score\": sentiment_score}, ignore_index=True)\n",
      "C:\\Users\\Ravi Nadar\\AppData\\Local\\Temp\\ipykernel_14140\\220817355.py:14: FutureWarning: The frame.append method is deprecated and will be removed from pandas in a future version. Use pandas.concat instead.\n",
      "  sentiment_data = sentiment_data.append({\"Text\": text, \"Sentiment_Score\": sentiment_score}, ignore_index=True)\n",
      "C:\\Users\\Ravi Nadar\\AppData\\Local\\Temp\\ipykernel_14140\\220817355.py:14: FutureWarning: The frame.append method is deprecated and will be removed from pandas in a future version. Use pandas.concat instead.\n",
      "  sentiment_data = sentiment_data.append({\"Text\": text, \"Sentiment_Score\": sentiment_score}, ignore_index=True)\n"
     ]
    }
   ],
   "source": [
    "import pandas as pd\n",
    "from textblob import TextBlob\n",
    "\n",
    "# Sample text data\n",
    "text_data = [\"This is a positive sentence.\", \"Negative sentiment here.\", \"Neutral statement.\"]\n",
    "\n",
    "# Create an empty dataframe\n",
    "sentiment_data = pd.DataFrame(columns=[\"Text\", \"Sentiment_Score\"])\n",
    "\n",
    "# Perform sentiment analysis and store results in the dataframe\n",
    "for text in text_data:\n",
    "    analysis = TextBlob(text)\n",
    "    sentiment_score = analysis.sentiment.polarity\n",
    "    sentiment_data = sentiment_data.append({\"Text\": text, \"Sentiment_Score\": sentiment_score}, ignore_index=True)\n",
    "\n",
    "# Display the sentiment data table\n",
    "print(sentiment_data)\n",
    "\n",
    "\n"
   ]
  },
  {
   "cell_type": "code",
   "execution_count": 1,
   "id": "2e754e46",
   "metadata": {},
   "outputs": [],
   "source": [
    "from keras.layers import Dense\n",
    "from keras.layers import Activation"
   ]
  },
  {
   "cell_type": "code",
   "execution_count": null,
   "id": "584245a6",
   "metadata": {},
   "outputs": [],
   "source": []
  }
 ],
 "metadata": {
  "kernelspec": {
   "display_name": "Python 3 (ipykernel)",
   "language": "python",
   "name": "python3"
  },
  "language_info": {
   "codemirror_mode": {
    "name": "ipython",
    "version": 3
   },
   "file_extension": ".py",
   "mimetype": "text/x-python",
   "name": "python",
   "nbconvert_exporter": "python",
   "pygments_lexer": "ipython3",
   "version": "3.11.4"
  }
 },
 "nbformat": 4,
 "nbformat_minor": 5
}
